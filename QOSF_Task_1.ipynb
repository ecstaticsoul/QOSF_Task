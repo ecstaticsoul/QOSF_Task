{
  "nbformat": 4,
  "nbformat_minor": 0,
  "metadata": {
    "colab": {
      "provenance": [],
      "gpuType": "T4"
    },
    "kernelspec": {
      "name": "python3",
      "display_name": "Python 3"
    },
    "language_info": {
      "name": "python"
    },
    "accelerator": "GPU"
  },
  "cells": [
    {
      "cell_type": "code",
      "execution_count": 10,
      "metadata": {
        "colab": {
          "base_uri": "https://localhost:8080/"
        },
        "id": "9b3I_AThh-eo",
        "outputId": "b7dfeda6-3f84-4439-e1cb-a26cad0d3cb6"
      },
      "outputs": [
        {
          "output_type": "stream",
          "name": "stdout",
          "text": [
            "[5, 6, 4, 1, 7, 3, 0, 2]\n"
          ]
        },
        {
          "output_type": "stream",
          "name": "stderr",
          "text": [
            "<ipython-input-10-e9fc01211fc4>:66: DeprecationWarning: Using a qobj for run() is deprecated as of qiskit-aer 0.14 and will be removed no sooner than 3 months from that release date. Transpiled circuits should now be passed directly using `backend.run(circuits, **run_options).\n",
            "  job = simulator.run(assemble(compiled_circuit))\n"
          ]
        }
      ],
      "source": [
        "import numpy as np\n",
        "from qiskit_aer import Aer\n",
        "from qiskit import QuantumCircuit, transpile, assemble\n",
        "from qiskit.visualization import plot_histogram\n",
        "\n",
        "def less_than_k(k, numbers):\n",
        "    # Determine the number of qubits needed to represent numbers up to k\n",
        "    num_qubits = len(bin(k - 1)[2:])\n",
        "\n",
        "    # Create a quantum circuit with num_qubits qubits and num_qubits classical bits\n",
        "    qc = QuantumCircuit(num_qubits, num_qubits)\n",
        "\n",
        "    # Apply Hadamard gates to all qubits to create a superposition of all possible states\n",
        "    for qubit in range(num_qubits):\n",
        "        qc.h(qubit)\n",
        "\n",
        "    # Define an oracle to mark states representing numbers less than k\n",
        "    for num in numbers:\n",
        "        if num < k:\n",
        "            # Convert the number to binary string and pad with zeros to match num_qubits\n",
        "            binary_num = bin(num)[2:].zfill(num_qubits)\n",
        "\n",
        "            # Apply a phase inversion to states representing numbers less than k\n",
        "            for qubit, bit in enumerate(reversed(binary_num)):\n",
        "                if bit == '0':\n",
        "                    qc.x(qubit)  # Apply X gate to flip the qubit\n",
        "            qc.cz(list(range(num_qubits - 1)), num_qubits - 1)  # Apply multi-controlled Z gate\n",
        "            for qubit, bit in enumerate(reversed(binary_num)):\n",
        "                if bit == '0':\n",
        "                    qc.x(qubit)  # Apply X gate to flip the qubit\n",
        "\n",
        "    # Apply Grover iterations\n",
        "    num_iterations = int(np.pi / 4 * np.sqrt(2 ** num_qubits / len(numbers)))\n",
        "    for _ in range(num_iterations):\n",
        "        # Apply the oracle\n",
        "        for num in numbers:\n",
        "            if num < k:\n",
        "                # Convert the number to binary string and pad with zeros to match num_qubits\n",
        "                binary_num = bin(num)[2:].zfill(num_qubits)\n",
        "\n",
        "                # Apply a phase inversion to states representing numbers less than k\n",
        "                for qubit, bit in enumerate(reversed(binary_num)):\n",
        "                    if bit == '0':\n",
        "                        qc.x(qubit)  # Apply X gate to flip the qubit\n",
        "                qc.cz(list(range(num_qubits - 1)), num_qubits - 1)  # Apply multi-controlled Z gate\n",
        "                for qubit, bit in enumerate(reversed(binary_num)):\n",
        "                    if bit == '0':\n",
        "                        qc.x(qubit)  # Apply X gate to flip the qubit\n",
        "\n",
        "        # Apply the amplification step\n",
        "        for qubit in range(num_qubits):\n",
        "            qc.h(qubit)\n",
        "            qc.x(qubit)\n",
        "        qc.h(num_qubits - 1)\n",
        "        qc.mct(list(range(num_qubits - 1)), num_qubits - 1)  # Multi-controlled Toffoli gate\n",
        "        qc.h(num_qubits - 1)\n",
        "        for qubit in range(num_qubits):\n",
        "            qc.x(qubit)\n",
        "            qc.h(qubit)\n",
        "\n",
        "    # Measure the qubits\n",
        "    qc.measure(range(num_qubits), range(num_qubits))\n",
        "\n",
        "    # Simulate the quantum circuit\n",
        "    simulator = Aer.get_backend('qasm_simulator')\n",
        "    compiled_circuit = transpile(qc, simulator)\n",
        "    job = simulator.run(assemble(compiled_circuit))\n",
        "    result = job.result()\n",
        "    counts = result.get_counts(qc)\n",
        "\n",
        "    # Extract the results\n",
        "    less_than_k_list = [int(key, 2) for key in counts.keys()]\n",
        "\n",
        "    return less_than_k_list\n",
        "\n",
        "# Example usage\n",
        "A = less_than_k(7, [4, 9, 11, 14, 1, 13, 6, 15])\n",
        "print(A)\n"
      ]
    }
  ]
}